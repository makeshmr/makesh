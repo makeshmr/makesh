{
  "nbformat": 4,
  "nbformat_minor": 0,
  "metadata": {
    "colab": {
      "provenance": [],
      "authorship_tag": "ABX9TyM9IMc57aa5QFD+FnhBYhxW",
      "include_colab_link": true
    },
    "kernelspec": {
      "name": "python3",
      "display_name": "Python 3"
    },
    "language_info": {
      "name": "python"
    }
  },
  "cells": [
    {
      "cell_type": "markdown",
      "metadata": {
        "id": "view-in-github",
        "colab_type": "text"
      },
      "source": [
        "<a href=\"https://colab.research.google.com/github/makeshmr/makesh/blob/master/ProblemsOnBinarySearch.ipynb\" target=\"_parent\"><img src=\"https://colab.research.google.com/assets/colab-badge.svg\" alt=\"Open In Colab\"/></a>"
      ]
    },
    {
      "cell_type": "markdown",
      "source": [
        "**Q1. Given an array of N distinct elements, find any local minima in the array.**\n",
        "\n",
        "\n",
        "What is a local minima?\n",
        "\n",
        "A local minimum in a list is an element that is smaller than its immediate neighbors(if they exist)\n",
        "\n",
        "- It has a left neighbor **B[i -1]** and a right neighbor **B[i+1]** and **B[i] < B[i-1]** and **B[i] < B[i+1]**\n",
        "- If it's the first element **(i = 0)** it must be smaller than its right neighbor\n",
        "- Ift it's the last element **(i= n -1)**, it must be smaller than its left neighbor\n",
        "\n",
        "\n",
        "**B = [10, 5, 7, 3, 8, 2, 6]**\n",
        "\n",
        "- Local minima - 5(smaller than 10 & 7) and 3(smaller than 7 & 8) and 2(smaller than 8 & 6)\n",
        "- Local minima - **[5,3,2]**\n",
        "\n",
        "**B = [21, 20, 19, 17, 15, 9, 7]**\n",
        "\n",
        "This list is strictly decreasing, meaning each element is larger than the next one. The last element 7 is the global minimum, but there is no local minimum because every element has a smaller right neighbor.\n",
        "\n",
        "\n",
        "\n",
        "\n",
        "\n",
        "\n"
      ],
      "metadata": {
        "id": "ErFT2opdfiyr"
      }
    },
    {
      "cell_type": "markdown",
      "source": [
        "- Can we use binary search to find all the local minma and maxima in an array?\n",
        "\n",
        "   Binary search is efficient to find a single local minima or maxima, but not all them in.Binary Search is useful when you need one local minima or maxima in **O(log n)**.\n",
        "\n",
        "   TO find all local minima/maxima, a linear scan **O(N)** is required\n",
        "\n"
      ],
      "metadata": {
        "id": "YDii9WxLopWC"
      }
    },
    {
      "cell_type": "code",
      "source": [],
      "metadata": {
        "id": "7E5uovAjopHI"
      },
      "execution_count": null,
      "outputs": []
    },
    {
      "cell_type": "code",
      "execution_count": null,
      "metadata": {
        "id": "lFBSK7gyfgII"
      },
      "outputs": [],
      "source": [
        "#binary search  approach to find single local minima in case only uniq elements\n",
        "\n",
        "def find_unique_localMinima(arr):\n",
        "  n = len(arr)\n",
        "\n",
        "  #edge cases\n",
        "  if (n==1): return arr[0] #if array have only 1 element\n",
        "  if (arr[0] < arr[1]): return arr[0] #if the first elemnt is a local minima\n",
        "  if (arr[-1] < arr[-2]): return arr[-1] #if the end value is a local minima\n",
        "\n",
        "  #here we already checked both ends of the array\n",
        "\n",
        "  low,high = 1,n-2\n",
        "\n",
        "  while (low <= high):\n",
        "\n",
        "    #to avoid overflow conditions\n",
        "    mid = low + (high-low)//2\n",
        "\n",
        "    #best case: if we land at the local minima\n",
        "    if (arr[mid] < arr[mid-1]) and (arr[mid] > arr[mid+1]):return arr[mid]\n",
        "\n",
        "    elif arr[mid] > arr[mid-1]: #we will move to left 50%chance to get a local minima\n",
        "      high = mid - 1\n",
        "\n",
        "    else: #we will move to right 50%chance to get a local minima\n",
        "      low = mid + 1\n",
        "\n",
        "  return -1\n",
        "\n",
        "\n",
        "  #if the array contain in place of the larger/smaller signs use <= / >="
      ]
    }
  ]
}